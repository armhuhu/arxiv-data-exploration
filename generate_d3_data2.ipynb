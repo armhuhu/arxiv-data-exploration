{
 "cells": [
  {
   "cell_type": "code",
   "execution_count": 4,
   "metadata": {},
   "outputs": [
    {
     "name": "stderr",
     "output_type": "stream",
     "text": [
      "\n",
      "Bad key \"lines.markeredgecolor\" on line 81 in\n",
      "C:\\Users\\harinsa\\arxiv-data-exploration\\matplotlibrc.\n",
      "You probably need to get an updated matplotlibrc file from\n",
      "http://github.com/matplotlib/matplotlib/blob/master/matplotlibrc.template\n",
      "or from the matplotlib source distribution\n"
     ]
    }
   ],
   "source": [
    "import pandas as pd\n",
    "import numpy as np"
   ]
  },
  {
   "cell_type": "code",
   "execution_count": 5,
   "metadata": {},
   "outputs": [],
   "source": [
    "df= pd.read_pickle('dblp.pkl')"
   ]
  },
  {
   "cell_type": "code",
   "execution_count": 6,
   "metadata": {},
   "outputs": [],
   "source": [
    "top_venues = [\"Lecture Notes in Computer Science\", \n",
    "              \"international conference on acoustics, speech, and signal processing\", \n",
    "              \"international conference on robotics and automation\", \n",
    "              \"international conference on image processing\", \n",
    "              \"international conference on communications\", \n",
    "              \"international symposium on circuits and systems\", \n",
    "              \"global communications conference\",\n",
    "              \"international geoscience and remote sensing symposium\", \n",
    "              \"intelligent robots and systems\",\n",
    "              \"conference of the international speech communication association\"]"
   ]
  },
  {
   "cell_type": "code",
   "execution_count": 7,
   "metadata": {},
   "outputs": [],
   "source": [
    "df_top = df[df.venue.isin(top_venues)].reset_index(drop=True)"
   ]
  },
  {
   "cell_type": "code",
   "execution_count": 8,
   "metadata": {},
   "outputs": [
    {
     "data": {
      "text/html": [
       "<div>\n",
       "<style scoped>\n",
       "    .dataframe tbody tr th:only-of-type {\n",
       "        vertical-align: middle;\n",
       "    }\n",
       "\n",
       "    .dataframe tbody tr th {\n",
       "        vertical-align: top;\n",
       "    }\n",
       "\n",
       "    .dataframe thead th {\n",
       "        text-align: right;\n",
       "    }\n",
       "</style>\n",
       "<table border=\"1\" class=\"dataframe\">\n",
       "  <thead>\n",
       "    <tr style=\"text-align: right;\">\n",
       "      <th></th>\n",
       "      <th>authors</th>\n",
       "      <th>id</th>\n",
       "      <th>n_citation</th>\n",
       "      <th>references</th>\n",
       "      <th>title</th>\n",
       "      <th>venue</th>\n",
       "      <th>year</th>\n",
       "    </tr>\n",
       "  </thead>\n",
       "  <tbody>\n",
       "    <tr>\n",
       "      <th>0</th>\n",
       "      <td>[Milos Zelezný, Petr Císar, Zdenek Krnoul, Jan...</td>\n",
       "      <td>00e02aeb-b424-4ca8-b3ca-6e18e322f79e</td>\n",
       "      <td>7</td>\n",
       "      <td>NaN</td>\n",
       "      <td>Design of an audio-visual speech corpus for th...</td>\n",
       "      <td>conference of the international speech communi...</td>\n",
       "      <td>2002</td>\n",
       "    </tr>\n",
       "    <tr>\n",
       "      <th>1</th>\n",
       "      <td>[Claudius Gläser, Martin Heckmann, Frank Joubl...</td>\n",
       "      <td>02e8e38f-ed5c-43a4-b3a4-c5064a725a2d</td>\n",
       "      <td>2</td>\n",
       "      <td>[18b17dbd-4f51-411e-a099-efadf521f0d8, 24c7948...</td>\n",
       "      <td>Auditory-based formant estimation in noise usi...</td>\n",
       "      <td>conference of the international speech communi...</td>\n",
       "      <td>2008</td>\n",
       "    </tr>\n",
       "    <tr>\n",
       "      <th>2</th>\n",
       "      <td>[Thomas Portele, Silke Goronzy, Martin Emele, ...</td>\n",
       "      <td>0564b85b-eac4-4a59-951e-3d8badc0c3e7</td>\n",
       "      <td>50</td>\n",
       "      <td>[6bb66751-ba4a-4740-9bc6-a41500f33022, a89dda2...</td>\n",
       "      <td>Smartkom-home - an advanced multi-modal interf...</td>\n",
       "      <td>conference of the international speech communi...</td>\n",
       "      <td>2003</td>\n",
       "    </tr>\n",
       "    <tr>\n",
       "      <th>3</th>\n",
       "      <td>[Guo-Hong Ding, Yifei Zhu, Chengrong Li, Bo Xu]</td>\n",
       "      <td>0602535c-1d37-4e96-9882-9be45ecd334a</td>\n",
       "      <td>14</td>\n",
       "      <td>NaN</td>\n",
       "      <td>Implementing vocal tract length normalization ...</td>\n",
       "      <td>conference of the international speech communi...</td>\n",
       "      <td>2002</td>\n",
       "    </tr>\n",
       "    <tr>\n",
       "      <th>4</th>\n",
       "      <td>[Mireia Farrús, Michael Wagner, Jan Anguita, J...</td>\n",
       "      <td>0a11cd87-659d-45b8-b140-d8a8ff0974ee</td>\n",
       "      <td>50</td>\n",
       "      <td>[23af12d9-481d-459a-a1e2-23390f7b3c9a, 4047558...</td>\n",
       "      <td>Robustness of prosodic features to voice imita...</td>\n",
       "      <td>conference of the international speech communi...</td>\n",
       "      <td>2008</td>\n",
       "    </tr>\n",
       "  </tbody>\n",
       "</table>\n",
       "</div>"
      ],
      "text/plain": [
       "                                             authors  \\\n",
       "0  [Milos Zelezný, Petr Císar, Zdenek Krnoul, Jan...   \n",
       "1  [Claudius Gläser, Martin Heckmann, Frank Joubl...   \n",
       "2  [Thomas Portele, Silke Goronzy, Martin Emele, ...   \n",
       "3    [Guo-Hong Ding, Yifei Zhu, Chengrong Li, Bo Xu]   \n",
       "4  [Mireia Farrús, Michael Wagner, Jan Anguita, J...   \n",
       "\n",
       "                                     id  n_citation  \\\n",
       "0  00e02aeb-b424-4ca8-b3ca-6e18e322f79e           7   \n",
       "1  02e8e38f-ed5c-43a4-b3a4-c5064a725a2d           2   \n",
       "2  0564b85b-eac4-4a59-951e-3d8badc0c3e7          50   \n",
       "3  0602535c-1d37-4e96-9882-9be45ecd334a          14   \n",
       "4  0a11cd87-659d-45b8-b140-d8a8ff0974ee          50   \n",
       "\n",
       "                                          references  \\\n",
       "0                                                NaN   \n",
       "1  [18b17dbd-4f51-411e-a099-efadf521f0d8, 24c7948...   \n",
       "2  [6bb66751-ba4a-4740-9bc6-a41500f33022, a89dda2...   \n",
       "3                                                NaN   \n",
       "4  [23af12d9-481d-459a-a1e2-23390f7b3c9a, 4047558...   \n",
       "\n",
       "                                               title  \\\n",
       "0  Design of an audio-visual speech corpus for th...   \n",
       "1  Auditory-based formant estimation in noise usi...   \n",
       "2  Smartkom-home - an advanced multi-modal interf...   \n",
       "3  Implementing vocal tract length normalization ...   \n",
       "4  Robustness of prosodic features to voice imita...   \n",
       "\n",
       "                                               venue  year  \n",
       "0  conference of the international speech communi...  2002  \n",
       "1  conference of the international speech communi...  2008  \n",
       "2  conference of the international speech communi...  2003  \n",
       "3  conference of the international speech communi...  2002  \n",
       "4  conference of the international speech communi...  2008  "
      ]
     },
     "execution_count": 8,
     "metadata": {},
     "output_type": "execute_result"
    }
   ],
   "source": [
    "df_top.head()"
   ]
  },
  {
   "cell_type": "code",
   "execution_count": 9,
   "metadata": {},
   "outputs": [],
   "source": [
    "def gen_links(df):\n",
    "    df = df.copy()\n",
    "    df = df.reset_index().set_index('id')\n",
    "    link = []\n",
    "    missed = 0\n",
    "    for i, r in df.iterrows():\n",
    "        if type(r.references) is list:\n",
    "            for ref in r.references:\n",
    "                if ref not in df.index:\n",
    "                    missed += 1\n",
    "                    continue\n",
    "                link.append({\n",
    "                    'source': int(r['index']),\n",
    "                    'target': int(df.loc[ref]['index'])\n",
    "                })\n",
    "    return link"
   ]
  },
  {
   "cell_type": "code",
   "execution_count": 10,
   "metadata": {},
   "outputs": [],
   "source": [
    "links = gen_links(df_top)"
   ]
  },
  {
   "cell_type": "code",
   "execution_count": 11,
   "metadata": {},
   "outputs": [
    {
     "data": {
      "text/plain": [
       "[{'source': 1, 'target': 100230},\n",
       " {'source': 1, 'target': 71135},\n",
       " {'source': 1, 'target': 153790},\n",
       " {'source': 2, 'target': 5977},\n",
       " {'source': 2, 'target': 2403},\n",
       " {'source': 4, 'target': 12883},\n",
       " {'source': 4, 'target': 108223},\n",
       " {'source': 4, 'target': 1740},\n",
       " {'source': 4, 'target': 28008},\n",
       " {'source': 10, 'target': 104239}]"
      ]
     },
     "execution_count": 11,
     "metadata": {},
     "output_type": "execute_result"
    }
   ],
   "source": [
    "links[:10]"
   ]
  },
  {
   "cell_type": "code",
   "execution_count": 12,
   "metadata": {},
   "outputs": [
    {
     "data": {
      "text/plain": [
       "237328"
      ]
     },
     "execution_count": 12,
     "metadata": {},
     "output_type": "execute_result"
    }
   ],
   "source": [
    "len(links)"
   ]
  },
  {
   "cell_type": "code",
   "execution_count": 13,
   "metadata": {},
   "outputs": [
    {
     "data": {
      "text/html": [
       "<div>\n",
       "<style scoped>\n",
       "    .dataframe tbody tr th:only-of-type {\n",
       "        vertical-align: middle;\n",
       "    }\n",
       "\n",
       "    .dataframe tbody tr th {\n",
       "        vertical-align: top;\n",
       "    }\n",
       "\n",
       "    .dataframe thead th {\n",
       "        text-align: right;\n",
       "    }\n",
       "</style>\n",
       "<table border=\"1\" class=\"dataframe\">\n",
       "  <thead>\n",
       "    <tr style=\"text-align: right;\">\n",
       "      <th></th>\n",
       "      <th>authors</th>\n",
       "      <th>id</th>\n",
       "      <th>n_citation</th>\n",
       "      <th>references</th>\n",
       "      <th>title</th>\n",
       "      <th>venue</th>\n",
       "      <th>year</th>\n",
       "    </tr>\n",
       "  </thead>\n",
       "  <tbody>\n",
       "    <tr>\n",
       "      <th>0</th>\n",
       "      <td>[Milos Zelezný, Petr Císar, Zdenek Krnoul, Jan...</td>\n",
       "      <td>00e02aeb-b424-4ca8-b3ca-6e18e322f79e</td>\n",
       "      <td>7</td>\n",
       "      <td>NaN</td>\n",
       "      <td>Design of an audio-visual speech corpus for th...</td>\n",
       "      <td>conference of the international speech communi...</td>\n",
       "      <td>2002</td>\n",
       "    </tr>\n",
       "    <tr>\n",
       "      <th>1</th>\n",
       "      <td>[Claudius Gläser, Martin Heckmann, Frank Joubl...</td>\n",
       "      <td>02e8e38f-ed5c-43a4-b3a4-c5064a725a2d</td>\n",
       "      <td>2</td>\n",
       "      <td>[18b17dbd-4f51-411e-a099-efadf521f0d8, 24c7948...</td>\n",
       "      <td>Auditory-based formant estimation in noise usi...</td>\n",
       "      <td>conference of the international speech communi...</td>\n",
       "      <td>2008</td>\n",
       "    </tr>\n",
       "    <tr>\n",
       "      <th>2</th>\n",
       "      <td>[Thomas Portele, Silke Goronzy, Martin Emele, ...</td>\n",
       "      <td>0564b85b-eac4-4a59-951e-3d8badc0c3e7</td>\n",
       "      <td>50</td>\n",
       "      <td>[6bb66751-ba4a-4740-9bc6-a41500f33022, a89dda2...</td>\n",
       "      <td>Smartkom-home - an advanced multi-modal interf...</td>\n",
       "      <td>conference of the international speech communi...</td>\n",
       "      <td>2003</td>\n",
       "    </tr>\n",
       "    <tr>\n",
       "      <th>3</th>\n",
       "      <td>[Guo-Hong Ding, Yifei Zhu, Chengrong Li, Bo Xu]</td>\n",
       "      <td>0602535c-1d37-4e96-9882-9be45ecd334a</td>\n",
       "      <td>14</td>\n",
       "      <td>NaN</td>\n",
       "      <td>Implementing vocal tract length normalization ...</td>\n",
       "      <td>conference of the international speech communi...</td>\n",
       "      <td>2002</td>\n",
       "    </tr>\n",
       "    <tr>\n",
       "      <th>4</th>\n",
       "      <td>[Mireia Farrús, Michael Wagner, Jan Anguita, J...</td>\n",
       "      <td>0a11cd87-659d-45b8-b140-d8a8ff0974ee</td>\n",
       "      <td>50</td>\n",
       "      <td>[23af12d9-481d-459a-a1e2-23390f7b3c9a, 4047558...</td>\n",
       "      <td>Robustness of prosodic features to voice imita...</td>\n",
       "      <td>conference of the international speech communi...</td>\n",
       "      <td>2008</td>\n",
       "    </tr>\n",
       "  </tbody>\n",
       "</table>\n",
       "</div>"
      ],
      "text/plain": [
       "                                             authors  \\\n",
       "0  [Milos Zelezný, Petr Císar, Zdenek Krnoul, Jan...   \n",
       "1  [Claudius Gläser, Martin Heckmann, Frank Joubl...   \n",
       "2  [Thomas Portele, Silke Goronzy, Martin Emele, ...   \n",
       "3    [Guo-Hong Ding, Yifei Zhu, Chengrong Li, Bo Xu]   \n",
       "4  [Mireia Farrús, Michael Wagner, Jan Anguita, J...   \n",
       "\n",
       "                                     id  n_citation  \\\n",
       "0  00e02aeb-b424-4ca8-b3ca-6e18e322f79e           7   \n",
       "1  02e8e38f-ed5c-43a4-b3a4-c5064a725a2d           2   \n",
       "2  0564b85b-eac4-4a59-951e-3d8badc0c3e7          50   \n",
       "3  0602535c-1d37-4e96-9882-9be45ecd334a          14   \n",
       "4  0a11cd87-659d-45b8-b140-d8a8ff0974ee          50   \n",
       "\n",
       "                                          references  \\\n",
       "0                                                NaN   \n",
       "1  [18b17dbd-4f51-411e-a099-efadf521f0d8, 24c7948...   \n",
       "2  [6bb66751-ba4a-4740-9bc6-a41500f33022, a89dda2...   \n",
       "3                                                NaN   \n",
       "4  [23af12d9-481d-459a-a1e2-23390f7b3c9a, 4047558...   \n",
       "\n",
       "                                               title  \\\n",
       "0  Design of an audio-visual speech corpus for th...   \n",
       "1  Auditory-based formant estimation in noise usi...   \n",
       "2  Smartkom-home - an advanced multi-modal interf...   \n",
       "3  Implementing vocal tract length normalization ...   \n",
       "4  Robustness of prosodic features to voice imita...   \n",
       "\n",
       "                                               venue  year  \n",
       "0  conference of the international speech communi...  2002  \n",
       "1  conference of the international speech communi...  2008  \n",
       "2  conference of the international speech communi...  2003  \n",
       "3  conference of the international speech communi...  2002  \n",
       "4  conference of the international speech communi...  2008  "
      ]
     },
     "execution_count": 13,
     "metadata": {},
     "output_type": "execute_result"
    }
   ],
   "source": [
    "df_top.head()"
   ]
  },
  {
   "cell_type": "code",
   "execution_count": 14,
   "metadata": {},
   "outputs": [],
   "source": [
    "df = df_top.sort_values('n_citation', ascending=False)"
   ]
  },
  {
   "cell_type": "code",
   "execution_count": 15,
   "metadata": {},
   "outputs": [],
   "source": [
    "import json"
   ]
  },
  {
   "cell_type": "code",
   "execution_count": 23,
   "metadata": {},
   "outputs": [
    {
     "data": {
      "text/html": [
       "<div>\n",
       "<style scoped>\n",
       "    .dataframe tbody tr th:only-of-type {\n",
       "        vertical-align: middle;\n",
       "    }\n",
       "\n",
       "    .dataframe tbody tr th {\n",
       "        vertical-align: top;\n",
       "    }\n",
       "\n",
       "    .dataframe thead th {\n",
       "        text-align: right;\n",
       "    }\n",
       "</style>\n",
       "<table border=\"1\" class=\"dataframe\">\n",
       "  <thead>\n",
       "    <tr style=\"text-align: right;\">\n",
       "      <th></th>\n",
       "      <th>index</th>\n",
       "      <th>authors</th>\n",
       "      <th>id</th>\n",
       "      <th>n_citation</th>\n",
       "      <th>references</th>\n",
       "      <th>title</th>\n",
       "      <th>venue</th>\n",
       "      <th>year</th>\n",
       "    </tr>\n",
       "  </thead>\n",
       "  <tbody>\n",
       "    <tr>\n",
       "      <th>0</th>\n",
       "      <td>0</td>\n",
       "      <td>[Rodney A. Brooks]</td>\n",
       "      <td>079090cb-9ba8-419b-845c-7cccb6039da3</td>\n",
       "      <td>10783</td>\n",
       "      <td>[0b800784-6cbf-4f7f-a87e-03bde316673e, 15a2345...</td>\n",
       "      <td>A robust layered control system for a mobile r...</td>\n",
       "      <td>international conference on robotics and autom...</td>\n",
       "      <td>1986</td>\n",
       "    </tr>\n",
       "    <tr>\n",
       "      <th>1</th>\n",
       "      <td>1</td>\n",
       "      <td>[Antony I. T. Rowstron, Peter Druschel]</td>\n",
       "      <td>f14df1ed-e3e9-4348-9040-fc06e3411b95</td>\n",
       "      <td>10467</td>\n",
       "      <td>[0f290b24-96ae-48f7-9304-9209bba8db17, 1cc6486...</td>\n",
       "      <td>Pastry: Scalable, Decentralized Object Locatio...</td>\n",
       "      <td>Lecture Notes in Computer Science</td>\n",
       "      <td>2001</td>\n",
       "    </tr>\n",
       "    <tr>\n",
       "      <th>2</th>\n",
       "      <td>2</td>\n",
       "      <td>[Paul C. Kocher, Joshua M. Jaffe, Benjamin C. ...</td>\n",
       "      <td>033ebb72-0119-4cc9-89b8-f011c55ddd79</td>\n",
       "      <td>7091</td>\n",
       "      <td>[]</td>\n",
       "      <td>Differential power analysis</td>\n",
       "      <td>Lecture Notes in Computer Science</td>\n",
       "      <td>1999</td>\n",
       "    </tr>\n",
       "    <tr>\n",
       "      <th>3</th>\n",
       "      <td>3</td>\n",
       "      <td>[Robin Milner]</td>\n",
       "      <td>8d1688b3-232b-4c48-80f6-d7f5e1b732d8</td>\n",
       "      <td>5990</td>\n",
       "      <td>[]</td>\n",
       "      <td>A Calculus of Communicating Systems</td>\n",
       "      <td>Lecture Notes in Computer Science</td>\n",
       "      <td>1982</td>\n",
       "    </tr>\n",
       "    <tr>\n",
       "      <th>4</th>\n",
       "      <td>4</td>\n",
       "      <td>[Andreas Stolcke]</td>\n",
       "      <td>4eec767c-9f1d-49e4-a329-8f8c57a1421a</td>\n",
       "      <td>4083</td>\n",
       "      <td>[5fa1744a-b72a-4a58-bd62-275c91fc37c3, 60a2637...</td>\n",
       "      <td>SRILM – An Extensible Language Modeling Toolkit</td>\n",
       "      <td>conference of the international speech communi...</td>\n",
       "      <td>2002</td>\n",
       "    </tr>\n",
       "  </tbody>\n",
       "</table>\n",
       "</div>"
      ],
      "text/plain": [
       "   index                                            authors  \\\n",
       "0      0                                 [Rodney A. Brooks]   \n",
       "1      1            [Antony I. T. Rowstron, Peter Druschel]   \n",
       "2      2  [Paul C. Kocher, Joshua M. Jaffe, Benjamin C. ...   \n",
       "3      3                                     [Robin Milner]   \n",
       "4      4                                  [Andreas Stolcke]   \n",
       "\n",
       "                                     id  n_citation  \\\n",
       "0  079090cb-9ba8-419b-845c-7cccb6039da3       10783   \n",
       "1  f14df1ed-e3e9-4348-9040-fc06e3411b95       10467   \n",
       "2  033ebb72-0119-4cc9-89b8-f011c55ddd79        7091   \n",
       "3  8d1688b3-232b-4c48-80f6-d7f5e1b732d8        5990   \n",
       "4  4eec767c-9f1d-49e4-a329-8f8c57a1421a        4083   \n",
       "\n",
       "                                          references  \\\n",
       "0  [0b800784-6cbf-4f7f-a87e-03bde316673e, 15a2345...   \n",
       "1  [0f290b24-96ae-48f7-9304-9209bba8db17, 1cc6486...   \n",
       "2                                                 []   \n",
       "3                                                 []   \n",
       "4  [5fa1744a-b72a-4a58-bd62-275c91fc37c3, 60a2637...   \n",
       "\n",
       "                                               title  \\\n",
       "0  A robust layered control system for a mobile r...   \n",
       "1  Pastry: Scalable, Decentralized Object Locatio...   \n",
       "2                        Differential power analysis   \n",
       "3                A Calculus of Communicating Systems   \n",
       "4    SRILM – An Extensible Language Modeling Toolkit   \n",
       "\n",
       "                                               venue  year  \n",
       "0  international conference on robotics and autom...  1986  \n",
       "1                  Lecture Notes in Computer Science  2001  \n",
       "2                  Lecture Notes in Computer Science  1999  \n",
       "3                  Lecture Notes in Computer Science  1982  \n",
       "4  conference of the international speech communi...  2002  "
      ]
     },
     "execution_count": 23,
     "metadata": {},
     "output_type": "execute_result"
    }
   ],
   "source": [
    "N = 1500\n",
    "df_subset = df[:N].reset_index(drop=True)\n",
    "isnull = df_subset.references.isna()\n",
    "df_subset.loc[isnull, 'references'] = [ [[]] * isnull.sum() ]\n",
    "df_subset = df_subset.reset_index()\n",
    "df_subset.head()"
   ]
  },
  {
   "cell_type": "code",
   "execution_count": 24,
   "metadata": {},
   "outputs": [],
   "source": [
    "data = {\n",
    "    'nodes': df_subset.to_dict(orient='records'),\n",
    "    'links': gen_links(df_subset)\n",
    "}"
   ]
  },
  {
   "cell_type": "code",
   "execution_count": 25,
   "metadata": {},
   "outputs": [],
   "source": [
    "with open('paper_graph.json', 'w') as f:\n",
    "    json.dump(data, f)"
   ]
  },
  {
   "cell_type": "code",
   "execution_count": 26,
   "metadata": {},
   "outputs": [
    {
     "data": {
      "text/plain": [
       "count     1500.000000\n",
       "mean       467.834000\n",
       "std        587.799648\n",
       "min        210.000000\n",
       "25%        250.000000\n",
       "50%        312.000000\n",
       "75%        464.000000\n",
       "max      10783.000000\n",
       "Name: n_citation, dtype: float64"
      ]
     },
     "execution_count": 26,
     "metadata": {},
     "output_type": "execute_result"
    }
   ],
   "source": [
    "%matplotlib inline\n",
    "df_subset.n_citation.describe()"
   ]
  },
  {
   "cell_type": "code",
   "execution_count": null,
   "metadata": {},
   "outputs": [],
   "source": []
  }
 ],
 "metadata": {
  "kernelspec": {
   "display_name": "Python 3",
   "language": "python",
   "name": "python3"
  },
  "language_info": {
   "codemirror_mode": {
    "name": "ipython",
    "version": 3
   },
   "file_extension": ".py",
   "mimetype": "text/x-python",
   "name": "python",
   "nbconvert_exporter": "python",
   "pygments_lexer": "ipython3",
   "version": "3.6.5"
  }
 },
 "nbformat": 4,
 "nbformat_minor": 2
}
