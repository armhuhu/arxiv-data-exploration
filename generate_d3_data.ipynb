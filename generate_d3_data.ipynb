{
 "cells": [
  {
   "cell_type": "code",
   "execution_count": 3,
   "metadata": {},
   "outputs": [],
   "source": [
    "import pandas as pd\n",
    "import numpy as np"
   ]
  },
  {
   "cell_type": "code",
   "execution_count": 4,
   "metadata": {},
   "outputs": [],
   "source": [
    "df= pd.read_pickle('dblp.pkl')"
   ]
  },
  {
   "cell_type": "code",
   "execution_count": 5,
   "metadata": {},
   "outputs": [
    {
     "data": {
      "text/html": [
       "<div>\n",
       "<style scoped>\n",
       "    .dataframe tbody tr th:only-of-type {\n",
       "        vertical-align: middle;\n",
       "    }\n",
       "\n",
       "    .dataframe tbody tr th {\n",
       "        vertical-align: top;\n",
       "    }\n",
       "\n",
       "    .dataframe thead th {\n",
       "        text-align: right;\n",
       "    }\n",
       "</style>\n",
       "<table border=\"1\" class=\"dataframe\">\n",
       "  <thead>\n",
       "    <tr style=\"text-align: right;\">\n",
       "      <th></th>\n",
       "      <th>authors</th>\n",
       "      <th>id</th>\n",
       "      <th>n_citation</th>\n",
       "      <th>references</th>\n",
       "      <th>title</th>\n",
       "      <th>venue</th>\n",
       "      <th>year</th>\n",
       "    </tr>\n",
       "  </thead>\n",
       "  <tbody>\n",
       "    <tr>\n",
       "      <th>0</th>\n",
       "      <td>[Makoto Satoh, Ryo Muramatsu, Mizue Kayama, Ka...</td>\n",
       "      <td>00127ee2-cb05-48ce-bc49-9de556b93346</td>\n",
       "      <td>0</td>\n",
       "      <td>[51c7e02e-f5ed-431a-8cf5-f761f266d4be, 69b625b...</td>\n",
       "      <td>Preliminary Design of a Network Protocol Learn...</td>\n",
       "      <td>international conference on human-computer int...</td>\n",
       "      <td>2013</td>\n",
       "    </tr>\n",
       "    <tr>\n",
       "      <th>1</th>\n",
       "      <td>[Gareth Beale, Graeme Earl]</td>\n",
       "      <td>001c58d3-26ad-46b3-ab3a-c1e557d16821</td>\n",
       "      <td>50</td>\n",
       "      <td>[10482dd3-4642-4193-842f-85f3b70fcf65, 3133714...</td>\n",
       "      <td>A methodology for the physically accurate visu...</td>\n",
       "      <td>visual analytics science and technology</td>\n",
       "      <td>2011</td>\n",
       "    </tr>\n",
       "    <tr>\n",
       "      <th>2</th>\n",
       "      <td>[Altaf Hossain, Faisal Zaman, Mohammed Nasser,...</td>\n",
       "      <td>001c8744-73c4-4b04-9364-22d31a10dbf1</td>\n",
       "      <td>50</td>\n",
       "      <td>[2d84c0f2-e656-4ce7-b018-90eda1c132fe, a083a1b...</td>\n",
       "      <td>Comparison of GARCH, Neural Network and Suppor...</td>\n",
       "      <td>pattern recognition and machine intelligence</td>\n",
       "      <td>2009</td>\n",
       "    </tr>\n",
       "    <tr>\n",
       "      <th>3</th>\n",
       "      <td>[Jea-Bum Park, Byungmok Kim, Jian Shen, Sun-Yo...</td>\n",
       "      <td>00338203-9eb3-40c5-9f31-cbac73a519ec</td>\n",
       "      <td>0</td>\n",
       "      <td>[8c78e4b0-632b-4293-b491-85b1976675e6, 9cdc54f...</td>\n",
       "      <td>Development of Remote Monitoring and Control D...</td>\n",
       "      <td></td>\n",
       "      <td>2011</td>\n",
       "    </tr>\n",
       "    <tr>\n",
       "      <th>4</th>\n",
       "      <td>[Giovanna Guerrini, Isabella Merlo]</td>\n",
       "      <td>0040b022-1472-4f70-a753-74832df65266</td>\n",
       "      <td>2</td>\n",
       "      <td>NaN</td>\n",
       "      <td>Reasonig about Set-Oriented Methods in Object ...</td>\n",
       "      <td></td>\n",
       "      <td>1998</td>\n",
       "    </tr>\n",
       "  </tbody>\n",
       "</table>\n",
       "</div>"
      ],
      "text/plain": [
       "                                             authors  \\\n",
       "0  [Makoto Satoh, Ryo Muramatsu, Mizue Kayama, Ka...   \n",
       "1                        [Gareth Beale, Graeme Earl]   \n",
       "2  [Altaf Hossain, Faisal Zaman, Mohammed Nasser,...   \n",
       "3  [Jea-Bum Park, Byungmok Kim, Jian Shen, Sun-Yo...   \n",
       "4                [Giovanna Guerrini, Isabella Merlo]   \n",
       "\n",
       "                                     id  n_citation  \\\n",
       "0  00127ee2-cb05-48ce-bc49-9de556b93346           0   \n",
       "1  001c58d3-26ad-46b3-ab3a-c1e557d16821          50   \n",
       "2  001c8744-73c4-4b04-9364-22d31a10dbf1          50   \n",
       "3  00338203-9eb3-40c5-9f31-cbac73a519ec           0   \n",
       "4  0040b022-1472-4f70-a753-74832df65266           2   \n",
       "\n",
       "                                          references  \\\n",
       "0  [51c7e02e-f5ed-431a-8cf5-f761f266d4be, 69b625b...   \n",
       "1  [10482dd3-4642-4193-842f-85f3b70fcf65, 3133714...   \n",
       "2  [2d84c0f2-e656-4ce7-b018-90eda1c132fe, a083a1b...   \n",
       "3  [8c78e4b0-632b-4293-b491-85b1976675e6, 9cdc54f...   \n",
       "4                                                NaN   \n",
       "\n",
       "                                               title  \\\n",
       "0  Preliminary Design of a Network Protocol Learn...   \n",
       "1  A methodology for the physically accurate visu...   \n",
       "2  Comparison of GARCH, Neural Network and Suppor...   \n",
       "3  Development of Remote Monitoring and Control D...   \n",
       "4  Reasonig about Set-Oriented Methods in Object ...   \n",
       "\n",
       "                                               venue  year  \n",
       "0  international conference on human-computer int...  2013  \n",
       "1            visual analytics science and technology  2011  \n",
       "2       pattern recognition and machine intelligence  2009  \n",
       "3                                                     2011  \n",
       "4                                                     1998  "
      ]
     },
     "execution_count": 5,
     "metadata": {},
     "output_type": "execute_result"
    }
   ],
   "source": [
    "df.head()"
   ]
  },
  {
   "cell_type": "code",
   "execution_count": 6,
   "metadata": {},
   "outputs": [],
   "source": [
    "d = df[['id', 'n_citation', 'references']]"
   ]
  },
  {
   "cell_type": "code",
   "execution_count": 7,
   "metadata": {},
   "outputs": [],
   "source": [
    "num_ref = []\n",
    "for ref in d.references:\n",
    "    if type(ref) is list:\n",
    "        num_ref.append(len(ref))\n",
    "    else:\n",
    "        num_ref.append(0)"
   ]
  },
  {
   "cell_type": "code",
   "execution_count": 8,
   "metadata": {},
   "outputs": [
    {
     "data": {
      "text/plain": [
       "3079007"
      ]
     },
     "execution_count": 8,
     "metadata": {},
     "output_type": "execute_result"
    }
   ],
   "source": [
    "len(num_ref)"
   ]
  },
  {
   "cell_type": "code",
   "execution_count": 9,
   "metadata": {},
   "outputs": [
    {
     "name": "stderr",
     "output_type": "stream",
     "text": [
      "C:\\Users\\harinsa\\Anaconda3\\lib\\site-packages\\ipykernel_launcher.py:1: SettingWithCopyWarning: \n",
      "A value is trying to be set on a copy of a slice from a DataFrame.\n",
      "Try using .loc[row_indexer,col_indexer] = value instead\n",
      "\n",
      "See the caveats in the documentation: http://pandas.pydata.org/pandas-docs/stable/indexing.html#indexing-view-versus-copy\n",
      "  \"\"\"Entry point for launching an IPython kernel.\n"
     ]
    }
   ],
   "source": [
    "d['num_ref'] = num_ref"
   ]
  },
  {
   "cell_type": "code",
   "execution_count": 10,
   "metadata": {},
   "outputs": [],
   "source": [
    "citation_map = dict()"
   ]
  },
  {
   "cell_type": "code",
   "execution_count": 11,
   "metadata": {},
   "outputs": [],
   "source": [
    "d = d.reset_index(drop=False)"
   ]
  },
  {
   "cell_type": "code",
   "execution_count": 12,
   "metadata": {},
   "outputs": [
    {
     "data": {
      "text/html": [
       "<div>\n",
       "<style scoped>\n",
       "    .dataframe tbody tr th:only-of-type {\n",
       "        vertical-align: middle;\n",
       "    }\n",
       "\n",
       "    .dataframe tbody tr th {\n",
       "        vertical-align: top;\n",
       "    }\n",
       "\n",
       "    .dataframe thead th {\n",
       "        text-align: right;\n",
       "    }\n",
       "</style>\n",
       "<table border=\"1\" class=\"dataframe\">\n",
       "  <thead>\n",
       "    <tr style=\"text-align: right;\">\n",
       "      <th></th>\n",
       "      <th>index</th>\n",
       "      <th>n_citation</th>\n",
       "      <th>references</th>\n",
       "      <th>num_ref</th>\n",
       "    </tr>\n",
       "    <tr>\n",
       "      <th>id</th>\n",
       "      <th></th>\n",
       "      <th></th>\n",
       "      <th></th>\n",
       "      <th></th>\n",
       "    </tr>\n",
       "  </thead>\n",
       "  <tbody>\n",
       "    <tr>\n",
       "      <th>00127ee2-cb05-48ce-bc49-9de556b93346</th>\n",
       "      <td>0</td>\n",
       "      <td>0</td>\n",
       "      <td>[51c7e02e-f5ed-431a-8cf5-f761f266d4be, 69b625b...</td>\n",
       "      <td>2</td>\n",
       "    </tr>\n",
       "    <tr>\n",
       "      <th>001c58d3-26ad-46b3-ab3a-c1e557d16821</th>\n",
       "      <td>1</td>\n",
       "      <td>50</td>\n",
       "      <td>[10482dd3-4642-4193-842f-85f3b70fcf65, 3133714...</td>\n",
       "      <td>13</td>\n",
       "    </tr>\n",
       "    <tr>\n",
       "      <th>001c8744-73c4-4b04-9364-22d31a10dbf1</th>\n",
       "      <td>2</td>\n",
       "      <td>50</td>\n",
       "      <td>[2d84c0f2-e656-4ce7-b018-90eda1c132fe, a083a1b...</td>\n",
       "      <td>2</td>\n",
       "    </tr>\n",
       "    <tr>\n",
       "      <th>00338203-9eb3-40c5-9f31-cbac73a519ec</th>\n",
       "      <td>3</td>\n",
       "      <td>0</td>\n",
       "      <td>[8c78e4b0-632b-4293-b491-85b1976675e6, 9cdc54f...</td>\n",
       "      <td>2</td>\n",
       "    </tr>\n",
       "    <tr>\n",
       "      <th>0040b022-1472-4f70-a753-74832df65266</th>\n",
       "      <td>4</td>\n",
       "      <td>2</td>\n",
       "      <td>NaN</td>\n",
       "      <td>0</td>\n",
       "    </tr>\n",
       "  </tbody>\n",
       "</table>\n",
       "</div>"
      ],
      "text/plain": [
       "                                      index  n_citation  \\\n",
       "id                                                        \n",
       "00127ee2-cb05-48ce-bc49-9de556b93346      0           0   \n",
       "001c58d3-26ad-46b3-ab3a-c1e557d16821      1          50   \n",
       "001c8744-73c4-4b04-9364-22d31a10dbf1      2          50   \n",
       "00338203-9eb3-40c5-9f31-cbac73a519ec      3           0   \n",
       "0040b022-1472-4f70-a753-74832df65266      4           2   \n",
       "\n",
       "                                                                             references  \\\n",
       "id                                                                                        \n",
       "00127ee2-cb05-48ce-bc49-9de556b93346  [51c7e02e-f5ed-431a-8cf5-f761f266d4be, 69b625b...   \n",
       "001c58d3-26ad-46b3-ab3a-c1e557d16821  [10482dd3-4642-4193-842f-85f3b70fcf65, 3133714...   \n",
       "001c8744-73c4-4b04-9364-22d31a10dbf1  [2d84c0f2-e656-4ce7-b018-90eda1c132fe, a083a1b...   \n",
       "00338203-9eb3-40c5-9f31-cbac73a519ec  [8c78e4b0-632b-4293-b491-85b1976675e6, 9cdc54f...   \n",
       "0040b022-1472-4f70-a753-74832df65266                                                NaN   \n",
       "\n",
       "                                      num_ref  \n",
       "id                                             \n",
       "00127ee2-cb05-48ce-bc49-9de556b93346        2  \n",
       "001c58d3-26ad-46b3-ab3a-c1e557d16821       13  \n",
       "001c8744-73c4-4b04-9364-22d31a10dbf1        2  \n",
       "00338203-9eb3-40c5-9f31-cbac73a519ec        2  \n",
       "0040b022-1472-4f70-a753-74832df65266        0  "
      ]
     },
     "execution_count": 12,
     "metadata": {},
     "output_type": "execute_result"
    }
   ],
   "source": [
    "d = d.set_index('id')\n",
    "d.head()"
   ]
  },
  {
   "cell_type": "code",
   "execution_count": 13,
   "metadata": {},
   "outputs": [
    {
     "ename": "KeyboardInterrupt",
     "evalue": "",
     "output_type": "error",
     "traceback": [
      "\u001b[1;31m---------------------------------------------------------------------------\u001b[0m",
      "\u001b[1;31mKeyboardInterrupt\u001b[0m                         Traceback (most recent call last)",
      "\u001b[1;32m<ipython-input-13-84e696612da4>\u001b[0m in \u001b[0;36m<module>\u001b[1;34m()\u001b[0m\n\u001b[0;32m      1\u001b[0m \u001b[0mpop\u001b[0m \u001b[1;33m=\u001b[0m \u001b[0mdict\u001b[0m\u001b[1;33m(\u001b[0m\u001b[1;33m)\u001b[0m\u001b[1;33m\u001b[0m\u001b[0m\n\u001b[1;32m----> 2\u001b[1;33m \u001b[1;32mfor\u001b[0m \u001b[0midx\u001b[0m\u001b[1;33m,\u001b[0m \u001b[0mrow\u001b[0m \u001b[1;32min\u001b[0m \u001b[0md\u001b[0m\u001b[1;33m.\u001b[0m\u001b[0miterrows\u001b[0m\u001b[1;33m(\u001b[0m\u001b[1;33m)\u001b[0m\u001b[1;33m:\u001b[0m\u001b[1;33m\u001b[0m\u001b[0m\n\u001b[0m\u001b[0;32m      3\u001b[0m     \u001b[1;32mif\u001b[0m \u001b[0mtype\u001b[0m\u001b[1;33m(\u001b[0m\u001b[0mrow\u001b[0m\u001b[1;33m.\u001b[0m\u001b[0mreferences\u001b[0m\u001b[1;33m)\u001b[0m \u001b[1;32mis\u001b[0m \u001b[0mlist\u001b[0m\u001b[1;33m:\u001b[0m\u001b[1;33m\u001b[0m\u001b[0m\n\u001b[0;32m      4\u001b[0m         \u001b[1;32mfor\u001b[0m \u001b[0mref\u001b[0m \u001b[1;32min\u001b[0m \u001b[0mrow\u001b[0m\u001b[1;33m.\u001b[0m\u001b[0mreferences\u001b[0m\u001b[1;33m:\u001b[0m\u001b[1;33m\u001b[0m\u001b[0m\n\u001b[0;32m      5\u001b[0m             \u001b[1;32mif\u001b[0m \u001b[0mref\u001b[0m \u001b[1;32min\u001b[0m \u001b[0mpop\u001b[0m\u001b[1;33m:\u001b[0m\u001b[1;33m\u001b[0m\u001b[0m\n",
      "\u001b[1;32m~\\Anaconda3\\lib\\site-packages\\pandas\\core\\frame.py\u001b[0m in \u001b[0;36miterrows\u001b[1;34m(self)\u001b[0m\n\u001b[0;32m    773\u001b[0m         \u001b[0mklass\u001b[0m \u001b[1;33m=\u001b[0m \u001b[0mself\u001b[0m\u001b[1;33m.\u001b[0m\u001b[0m_constructor_sliced\u001b[0m\u001b[1;33m\u001b[0m\u001b[0m\n\u001b[0;32m    774\u001b[0m         \u001b[1;32mfor\u001b[0m \u001b[0mk\u001b[0m\u001b[1;33m,\u001b[0m \u001b[0mv\u001b[0m \u001b[1;32min\u001b[0m \u001b[0mzip\u001b[0m\u001b[1;33m(\u001b[0m\u001b[0mself\u001b[0m\u001b[1;33m.\u001b[0m\u001b[0mindex\u001b[0m\u001b[1;33m,\u001b[0m \u001b[0mself\u001b[0m\u001b[1;33m.\u001b[0m\u001b[0mvalues\u001b[0m\u001b[1;33m)\u001b[0m\u001b[1;33m:\u001b[0m\u001b[1;33m\u001b[0m\u001b[0m\n\u001b[1;32m--> 775\u001b[1;33m             \u001b[0ms\u001b[0m \u001b[1;33m=\u001b[0m \u001b[0mklass\u001b[0m\u001b[1;33m(\u001b[0m\u001b[0mv\u001b[0m\u001b[1;33m,\u001b[0m \u001b[0mindex\u001b[0m\u001b[1;33m=\u001b[0m\u001b[0mcolumns\u001b[0m\u001b[1;33m,\u001b[0m \u001b[0mname\u001b[0m\u001b[1;33m=\u001b[0m\u001b[0mk\u001b[0m\u001b[1;33m)\u001b[0m\u001b[1;33m\u001b[0m\u001b[0m\n\u001b[0m\u001b[0;32m    776\u001b[0m             \u001b[1;32myield\u001b[0m \u001b[0mk\u001b[0m\u001b[1;33m,\u001b[0m \u001b[0ms\u001b[0m\u001b[1;33m\u001b[0m\u001b[0m\n\u001b[0;32m    777\u001b[0m \u001b[1;33m\u001b[0m\u001b[0m\n",
      "\u001b[1;32m~\\Anaconda3\\lib\\site-packages\\pandas\\core\\series.py\u001b[0m in \u001b[0;36m__init__\u001b[1;34m(self, data, index, dtype, name, copy, fastpath)\u001b[0m\n\u001b[0;32m    272\u001b[0m             \u001b[1;32melse\u001b[0m\u001b[1;33m:\u001b[0m\u001b[1;33m\u001b[0m\u001b[0m\n\u001b[0;32m    273\u001b[0m                 data = _sanitize_array(data, index, dtype, copy,\n\u001b[1;32m--> 274\u001b[1;33m                                        raise_cast_failure=True)\n\u001b[0m\u001b[0;32m    275\u001b[0m \u001b[1;33m\u001b[0m\u001b[0m\n\u001b[0;32m    276\u001b[0m                 \u001b[0mdata\u001b[0m \u001b[1;33m=\u001b[0m \u001b[0mSingleBlockManager\u001b[0m\u001b[1;33m(\u001b[0m\u001b[0mdata\u001b[0m\u001b[1;33m,\u001b[0m \u001b[0mindex\u001b[0m\u001b[1;33m,\u001b[0m \u001b[0mfastpath\u001b[0m\u001b[1;33m=\u001b[0m\u001b[1;32mTrue\u001b[0m\u001b[1;33m)\u001b[0m\u001b[1;33m\u001b[0m\u001b[0m\n",
      "\u001b[1;32m~\\Anaconda3\\lib\\site-packages\\pandas\\core\\series.py\u001b[0m in \u001b[0;36m_sanitize_array\u001b[1;34m(data, index, dtype, copy, raise_cast_failure)\u001b[0m\n\u001b[0;32m   4090\u001b[0m \u001b[1;33m\u001b[0m\u001b[0m\n\u001b[0;32m   4091\u001b[0m             \u001b[1;31m# we will try to copy be-definition here\u001b[0m\u001b[1;33m\u001b[0m\u001b[1;33m\u001b[0m\u001b[0m\n\u001b[1;32m-> 4092\u001b[1;33m             \u001b[0msubarr\u001b[0m \u001b[1;33m=\u001b[0m \u001b[0m_try_cast\u001b[0m\u001b[1;33m(\u001b[0m\u001b[0mdata\u001b[0m\u001b[1;33m,\u001b[0m \u001b[1;32mTrue\u001b[0m\u001b[1;33m)\u001b[0m\u001b[1;33m\u001b[0m\u001b[0m\n\u001b[0m\u001b[0;32m   4093\u001b[0m \u001b[1;33m\u001b[0m\u001b[0m\n\u001b[0;32m   4094\u001b[0m     \u001b[1;32melif\u001b[0m \u001b[0misinstance\u001b[0m\u001b[1;33m(\u001b[0m\u001b[0mdata\u001b[0m\u001b[1;33m,\u001b[0m \u001b[0mExtensionArray\u001b[0m\u001b[1;33m)\u001b[0m\u001b[1;33m:\u001b[0m\u001b[1;33m\u001b[0m\u001b[0m\n",
      "\u001b[1;32m~\\Anaconda3\\lib\\site-packages\\pandas\\core\\series.py\u001b[0m in \u001b[0;36m_try_cast\u001b[1;34m(arr, take_fast_path)\u001b[0m\n\u001b[0;32m   4035\u001b[0m         \u001b[1;31m# perf shortcut as this is the most common case\u001b[0m\u001b[1;33m\u001b[0m\u001b[1;33m\u001b[0m\u001b[0m\n\u001b[0;32m   4036\u001b[0m         \u001b[1;32mif\u001b[0m \u001b[0mtake_fast_path\u001b[0m\u001b[1;33m:\u001b[0m\u001b[1;33m\u001b[0m\u001b[0m\n\u001b[1;32m-> 4037\u001b[1;33m             \u001b[1;32mif\u001b[0m \u001b[0mmaybe_castable\u001b[0m\u001b[1;33m(\u001b[0m\u001b[0marr\u001b[0m\u001b[1;33m)\u001b[0m \u001b[1;32mand\u001b[0m \u001b[1;32mnot\u001b[0m \u001b[0mcopy\u001b[0m \u001b[1;32mand\u001b[0m \u001b[0mdtype\u001b[0m \u001b[1;32mis\u001b[0m \u001b[1;32mNone\u001b[0m\u001b[1;33m:\u001b[0m\u001b[1;33m\u001b[0m\u001b[0m\n\u001b[0m\u001b[0;32m   4038\u001b[0m                 \u001b[1;32mreturn\u001b[0m \u001b[0marr\u001b[0m\u001b[1;33m\u001b[0m\u001b[0m\n\u001b[0;32m   4039\u001b[0m \u001b[1;33m\u001b[0m\u001b[0m\n",
      "\u001b[1;32m~\\Anaconda3\\lib\\site-packages\\pandas\\core\\dtypes\\cast.py\u001b[0m in \u001b[0;36mmaybe_castable\u001b[1;34m(arr)\u001b[0m\n\u001b[0;32m    862\u001b[0m         \u001b[1;32mreturn\u001b[0m \u001b[0mis_timedelta64_ns_dtype\u001b[0m\u001b[1;33m(\u001b[0m\u001b[0marr\u001b[0m\u001b[1;33m.\u001b[0m\u001b[0mdtype\u001b[0m\u001b[1;33m)\u001b[0m\u001b[1;33m\u001b[0m\u001b[0m\n\u001b[0;32m    863\u001b[0m \u001b[1;33m\u001b[0m\u001b[0m\n\u001b[1;32m--> 864\u001b[1;33m     \u001b[1;32mreturn\u001b[0m \u001b[0marr\u001b[0m\u001b[1;33m.\u001b[0m\u001b[0mdtype\u001b[0m\u001b[1;33m.\u001b[0m\u001b[0mname\u001b[0m \u001b[1;32mnot\u001b[0m \u001b[1;32min\u001b[0m \u001b[0m_POSSIBLY_CAST_DTYPES\u001b[0m\u001b[1;33m\u001b[0m\u001b[0m\n\u001b[0m\u001b[0;32m    865\u001b[0m \u001b[1;33m\u001b[0m\u001b[0m\n\u001b[0;32m    866\u001b[0m \u001b[1;33m\u001b[0m\u001b[0m\n",
      "\u001b[1;31mKeyboardInterrupt\u001b[0m: "
     ]
    }
   ],
   "source": [
    "# pop = dict()\n",
    "# for idx, row in d.iterrows():\n",
    "#     if type(row.references) is list:\n",
    "#         for ref in row.references:\n",
    "#             if ref in pop:\n",
    "#                 pop[ref] = pop[ref] + 1\n",
    "#             else:\n",
    "#                 pop[ref] = 1"
   ]
  },
  {
   "cell_type": "code",
   "execution_count": null,
   "metadata": {},
   "outputs": [],
   "source": [
    "# df_pop = pd.DataFrame({ 'id': list(pop.keys()), 'citedcount': list(pop.values()) })"
   ]
  },
  {
   "cell_type": "code",
   "execution_count": null,
   "metadata": {},
   "outputs": [],
   "source": [
    "# df_pop.sort_values('citedcount', ascending=False).head()"
   ]
  },
  {
   "cell_type": "code",
   "execution_count": null,
   "metadata": {},
   "outputs": [],
   "source": [
    "# d = d.join(df_pop.set_index('id'))"
   ]
  },
  {
   "cell_type": "code",
   "execution_count": null,
   "metadata": {},
   "outputs": [],
   "source": [
    "# d.citedcount.fillna(0, inplace=True)"
   ]
  },
  {
   "cell_type": "code",
   "execution_count": null,
   "metadata": {},
   "outputs": [],
   "source": [
    "# d.sort_values('citedcount', ascending=False).head()"
   ]
  },
  {
   "cell_type": "code",
   "execution_count": null,
   "metadata": {},
   "outputs": [],
   "source": [
    "# d[d.n_citation < d.citedcount]"
   ]
  },
  {
   "cell_type": "code",
   "execution_count": 18,
   "metadata": {},
   "outputs": [
    {
     "data": {
      "text/html": [
       "<div>\n",
       "<style scoped>\n",
       "    .dataframe tbody tr th:only-of-type {\n",
       "        vertical-align: middle;\n",
       "    }\n",
       "\n",
       "    .dataframe tbody tr th {\n",
       "        vertical-align: top;\n",
       "    }\n",
       "\n",
       "    .dataframe thead th {\n",
       "        text-align: right;\n",
       "    }\n",
       "</style>\n",
       "<table border=\"1\" class=\"dataframe\">\n",
       "  <thead>\n",
       "    <tr style=\"text-align: right;\">\n",
       "      <th></th>\n",
       "      <th>level_0</th>\n",
       "      <th>index</th>\n",
       "      <th>n_citation</th>\n",
       "      <th>references</th>\n",
       "      <th>num_ref</th>\n",
       "      <th>title</th>\n",
       "      <th>venue</th>\n",
       "      <th>authors</th>\n",
       "      <th>year</th>\n",
       "    </tr>\n",
       "    <tr>\n",
       "      <th>id</th>\n",
       "      <th></th>\n",
       "      <th></th>\n",
       "      <th></th>\n",
       "      <th></th>\n",
       "      <th></th>\n",
       "      <th></th>\n",
       "      <th></th>\n",
       "      <th></th>\n",
       "      <th></th>\n",
       "    </tr>\n",
       "  </thead>\n",
       "  <tbody>\n",
       "    <tr>\n",
       "      <th>6a6b9aa6-683f-4c7c-b06e-9c3018d10fd3</th>\n",
       "      <td>0</td>\n",
       "      <td>551841</td>\n",
       "      <td>73362</td>\n",
       "      <td>NaN</td>\n",
       "      <td>0</td>\n",
       "      <td>Genetic Algorithms in Search, Optimization and...</td>\n",
       "      <td></td>\n",
       "      <td>[David E. Goldberg]</td>\n",
       "      <td>1989</td>\n",
       "    </tr>\n",
       "    <tr>\n",
       "      <th>b944f77f-113b-4a02-ae5e-d4a124b8fd5b</th>\n",
       "      <td>1</td>\n",
       "      <td>2332760</td>\n",
       "      <td>42508</td>\n",
       "      <td>[00a4e16f-6b65-4ad2-bedc-b19d9cbc2cfe, 01a0f82...</td>\n",
       "      <td>31</td>\n",
       "      <td>Distinctive Image Features from Scale-Invarian...</td>\n",
       "      <td>International Journal of Computer Vision</td>\n",
       "      <td>[David G. Lowe]</td>\n",
       "      <td>2004</td>\n",
       "    </tr>\n",
       "    <tr>\n",
       "      <th>ac744614-9003-4ccb-93bf-2fe5b1ef4166</th>\n",
       "      <td>2</td>\n",
       "      <td>2294527</td>\n",
       "      <td>34288</td>\n",
       "      <td>NaN</td>\n",
       "      <td>0</td>\n",
       "      <td>Bowling alone: the collapse and revival of Ame...</td>\n",
       "      <td>conference on computer supported cooperative work</td>\n",
       "      <td>[Robert D. Putnam]</td>\n",
       "      <td>2000</td>\n",
       "    </tr>\n",
       "    <tr>\n",
       "      <th>c1b6b493-01ef-420f-be44-7bacfe34e846</th>\n",
       "      <td>3</td>\n",
       "      <td>2358174</td>\n",
       "      <td>33016</td>\n",
       "      <td>[036a2a1b-8729-431d-b260-3d6b33c6c6a4, 078b095...</td>\n",
       "      <td>29</td>\n",
       "      <td>LIBSVM: A library for support vector machines</td>\n",
       "      <td>ACM Transactions on Intelligent Systems and Te...</td>\n",
       "      <td>[Chih-Chung Chang, Chih-Jen Lin]</td>\n",
       "      <td>2011</td>\n",
       "    </tr>\n",
       "    <tr>\n",
       "      <th>e0f3a738-4ab2-40d1-ba44-506d81c1d230</th>\n",
       "      <td>4</td>\n",
       "      <td>199442</td>\n",
       "      <td>29285</td>\n",
       "      <td>NaN</td>\n",
       "      <td>0</td>\n",
       "      <td>Reinforcement Learning: An Introduction</td>\n",
       "      <td>neural information processing systems</td>\n",
       "      <td>[Richard S. Sutton, Andrew G. Barto]</td>\n",
       "      <td>1999</td>\n",
       "    </tr>\n",
       "  </tbody>\n",
       "</table>\n",
       "</div>"
      ],
      "text/plain": [
       "                                      level_0    index  n_citation  \\\n",
       "id                                                                   \n",
       "6a6b9aa6-683f-4c7c-b06e-9c3018d10fd3        0   551841       73362   \n",
       "b944f77f-113b-4a02-ae5e-d4a124b8fd5b        1  2332760       42508   \n",
       "ac744614-9003-4ccb-93bf-2fe5b1ef4166        2  2294527       34288   \n",
       "c1b6b493-01ef-420f-be44-7bacfe34e846        3  2358174       33016   \n",
       "e0f3a738-4ab2-40d1-ba44-506d81c1d230        4   199442       29285   \n",
       "\n",
       "                                                                             references  \\\n",
       "id                                                                                        \n",
       "6a6b9aa6-683f-4c7c-b06e-9c3018d10fd3                                                NaN   \n",
       "b944f77f-113b-4a02-ae5e-d4a124b8fd5b  [00a4e16f-6b65-4ad2-bedc-b19d9cbc2cfe, 01a0f82...   \n",
       "ac744614-9003-4ccb-93bf-2fe5b1ef4166                                                NaN   \n",
       "c1b6b493-01ef-420f-be44-7bacfe34e846  [036a2a1b-8729-431d-b260-3d6b33c6c6a4, 078b095...   \n",
       "e0f3a738-4ab2-40d1-ba44-506d81c1d230                                                NaN   \n",
       "\n",
       "                                      num_ref  \\\n",
       "id                                              \n",
       "6a6b9aa6-683f-4c7c-b06e-9c3018d10fd3        0   \n",
       "b944f77f-113b-4a02-ae5e-d4a124b8fd5b       31   \n",
       "ac744614-9003-4ccb-93bf-2fe5b1ef4166        0   \n",
       "c1b6b493-01ef-420f-be44-7bacfe34e846       29   \n",
       "e0f3a738-4ab2-40d1-ba44-506d81c1d230        0   \n",
       "\n",
       "                                                                                  title  \\\n",
       "id                                                                                        \n",
       "6a6b9aa6-683f-4c7c-b06e-9c3018d10fd3  Genetic Algorithms in Search, Optimization and...   \n",
       "b944f77f-113b-4a02-ae5e-d4a124b8fd5b  Distinctive Image Features from Scale-Invarian...   \n",
       "ac744614-9003-4ccb-93bf-2fe5b1ef4166  Bowling alone: the collapse and revival of Ame...   \n",
       "c1b6b493-01ef-420f-be44-7bacfe34e846      LIBSVM: A library for support vector machines   \n",
       "e0f3a738-4ab2-40d1-ba44-506d81c1d230            Reinforcement Learning: An Introduction   \n",
       "\n",
       "                                                                                  venue  \\\n",
       "id                                                                                        \n",
       "6a6b9aa6-683f-4c7c-b06e-9c3018d10fd3                                                      \n",
       "b944f77f-113b-4a02-ae5e-d4a124b8fd5b           International Journal of Computer Vision   \n",
       "ac744614-9003-4ccb-93bf-2fe5b1ef4166  conference on computer supported cooperative work   \n",
       "c1b6b493-01ef-420f-be44-7bacfe34e846  ACM Transactions on Intelligent Systems and Te...   \n",
       "e0f3a738-4ab2-40d1-ba44-506d81c1d230              neural information processing systems   \n",
       "\n",
       "                                                                   authors  \\\n",
       "id                                                                           \n",
       "6a6b9aa6-683f-4c7c-b06e-9c3018d10fd3                   [David E. Goldberg]   \n",
       "b944f77f-113b-4a02-ae5e-d4a124b8fd5b                       [David G. Lowe]   \n",
       "ac744614-9003-4ccb-93bf-2fe5b1ef4166                    [Robert D. Putnam]   \n",
       "c1b6b493-01ef-420f-be44-7bacfe34e846      [Chih-Chung Chang, Chih-Jen Lin]   \n",
       "e0f3a738-4ab2-40d1-ba44-506d81c1d230  [Richard S. Sutton, Andrew G. Barto]   \n",
       "\n",
       "                                      year  \n",
       "id                                          \n",
       "6a6b9aa6-683f-4c7c-b06e-9c3018d10fd3  1989  \n",
       "b944f77f-113b-4a02-ae5e-d4a124b8fd5b  2004  \n",
       "ac744614-9003-4ccb-93bf-2fe5b1ef4166  2000  \n",
       "c1b6b493-01ef-420f-be44-7bacfe34e846  2011  \n",
       "e0f3a738-4ab2-40d1-ba44-506d81c1d230  1999  "
      ]
     },
     "execution_count": 18,
     "metadata": {},
     "output_type": "execute_result"
    }
   ],
   "source": [
    "toppp = d.sort_values('n_citation', ascending=False).head(1000)\n",
    "toppp = toppp.reset_index()\n",
    "toppp = toppp.reset_index(drop=False)\n",
    "toppp = toppp.set_index('id')\n",
    "toppp = toppp.join(df[['id', 'title', 'venue', 'authors', 'year']].set_index('id'), how='left')\n",
    "toppp.head()"
   ]
  },
  {
   "cell_type": "code",
   "execution_count": null,
   "metadata": {},
   "outputs": [],
   "source": [
    "link = []\n",
    "missed = 0\n",
    "for i, r in toppp.iterrows():\n",
    "    if type(r.references) is list:\n",
    "        for ref in r.references:\n",
    "            if ref not in toppp.index:\n",
    "                missed += 1\n",
    "                continue\n",
    "            link.append({\n",
    "                'source': int(r['level_0'].value),\n",
    "                'target': int(toppp.loc[ref]['level_0'].value)\n",
    "            })"
   ]
  },
  {
   "cell_type": "code",
   "execution_count": null,
   "metadata": {},
   "outputs": [],
   "source": [
    "missed /np.sum(toppp.num_ref) *100"
   ]
  },
  {
   "cell_type": "code",
   "execution_count": null,
   "metadata": {},
   "outputs": [],
   "source": [
    "np.sum(toppp.num_ref)"
   ]
  },
  {
   "cell_type": "code",
   "execution_count": null,
   "metadata": {},
   "outputs": [],
   "source": [
    "link[:10]"
   ]
  },
  {
   "cell_type": "code",
   "execution_count": null,
   "metadata": {},
   "outputs": [],
   "source": [
    "import json"
   ]
  },
  {
   "cell_type": "code",
   "execution_count": null,
   "metadata": {},
   "outputs": [],
   "source": [
    "with open('link.json', 'w') as f:\n",
    "    json.dump(link, f)"
   ]
  },
  {
   "cell_type": "code",
   "execution_count": 20,
   "metadata": {},
   "outputs": [],
   "source": [
    "toppp.reset_index(drop=False).to_json('top_paper.json', orient='records')"
   ]
  },
  {
   "cell_type": "code",
   "execution_count": null,
   "metadata": {},
   "outputs": [],
   "source": []
  }
 ],
 "metadata": {
  "kernelspec": {
   "display_name": "Python 3",
   "language": "python",
   "name": "python3"
  },
  "language_info": {
   "codemirror_mode": {
    "name": "ipython",
    "version": 3
   },
   "file_extension": ".py",
   "mimetype": "text/x-python",
   "name": "python",
   "nbconvert_exporter": "python",
   "pygments_lexer": "ipython3",
   "version": "3.6.5"
  }
 },
 "nbformat": 4,
 "nbformat_minor": 2
}
