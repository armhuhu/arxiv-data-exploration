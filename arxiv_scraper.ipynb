{
 "cells": [
  {
   "cell_type": "code",
   "execution_count": 5,
   "metadata": {},
   "outputs": [],
   "source": [
    "%load_ext autoreload\n",
    "%autoreload 2\n",
    "import pandas as pd\n",
    "from arxivscraper import arxivscraper"
   ]
  },
  {
   "cell_type": "code",
   "execution_count": 7,
   "metadata": {},
   "outputs": [
    {
     "name": "stdout",
     "output_type": "stream",
     "text": [
      "http://export.arxiv.org/oai2?verb=ListRecords&from=2017-10-01&until=2018-10-01&metadataPrefix=arXiv&set=stat\n",
      "fetching up to  1000 records...\n",
      "fetching up to  2000 records...\n",
      "Got 503. Retrying after 10 seconds.\n",
      "fetching up to  2000 records...\n",
      "fetching up to  3000 records...\n",
      "Got 503. Retrying after 10 seconds.\n",
      "fetching up to  3000 records...\n",
      "fetching up to  4000 records...\n",
      "Got 503. Retrying after 10 seconds.\n",
      "fetching up to  4000 records...\n",
      "fetching up to  5000 records...\n",
      "Got 503. Retrying after 10 seconds.\n",
      "fetching up to  5000 records...\n",
      "fetching up to  6000 records...\n",
      "Got 503. Retrying after 10 seconds.\n",
      "fetching up to  6000 records...\n",
      "fetching up to  7000 records...\n",
      "Got 503. Retrying after 10 seconds.\n",
      "fetching up to  7000 records...\n",
      "fetching up to  8000 records...\n",
      "Got 503. Retrying after 10 seconds.\n",
      "fetching up to  8000 records...\n",
      "fetching up to  9000 records...\n",
      "Got 503. Retrying after 10 seconds.\n",
      "fetching up to  9000 records...\n",
      "fetching up to  10000 records...\n",
      "Got 503. Retrying after 10 seconds.\n",
      "fetching up to  10000 records...\n",
      "fetching up to  11000 records...\n",
      "Got 503. Retrying after 10 seconds.\n",
      "fetching up to  11000 records...\n",
      "fetching up to  12000 records...\n",
      "Got 503. Retrying after 10 seconds.\n",
      "fetching up to  12000 records...\n",
      "fetching up to  13000 records...\n",
      "Got 503. Retrying after 10 seconds.\n",
      "fetching up to  13000 records...\n",
      "fetching up to  14000 records...\n",
      "Got 503. Retrying after 10 seconds.\n",
      "fetching up to  14000 records...\n",
      "fetching is completed in 540.7 seconds.\n",
      "Total number of records 13015\n"
     ]
    }
   ],
   "source": [
    "start = '2017-10-01'\n",
    "end = '2018-10-01'\n",
    "scraper = arxivscraper.Scraper(category='stat', date_from=start,date_until=end, t=10)\n",
    "output = scraper.scrape()\n",
    "cols = ('id', 'title', 'categories', 'abstract', 'doi', 'created', 'updated', 'authors')\n",
    "df = pd.DataFrame(output,columns=cols)"
   ]
  },
  {
   "cell_type": "code",
   "execution_count": 8,
   "metadata": {},
   "outputs": [],
   "source": [
    "df_filtered = df[(df.created >= '2017-10-01') & (df.created<='2018-09-30')]"
   ]
  },
  {
   "cell_type": "code",
   "execution_count": 17,
   "metadata": {},
   "outputs": [],
   "source": [
    "df_filtered.to_csv(\"data/arxiv.csv\", sep = \"ก\", index = False)"
   ]
  },
  {
   "cell_type": "code",
   "execution_count": 34,
   "metadata": {},
   "outputs": [
    {
     "data": {
      "text/html": [
       "<div>\n",
       "<style scoped>\n",
       "    .dataframe tbody tr th:only-of-type {\n",
       "        vertical-align: middle;\n",
       "    }\n",
       "\n",
       "    .dataframe tbody tr th {\n",
       "        vertical-align: top;\n",
       "    }\n",
       "\n",
       "    .dataframe thead th {\n",
       "        text-align: right;\n",
       "    }\n",
       "</style>\n",
       "<table border=\"1\" class=\"dataframe\">\n",
       "  <thead>\n",
       "    <tr style=\"text-align: right;\">\n",
       "      <th></th>\n",
       "      <th>id</th>\n",
       "      <th>title</th>\n",
       "      <th>categories</th>\n",
       "      <th>abstract</th>\n",
       "      <th>doi</th>\n",
       "      <th>created</th>\n",
       "      <th>updated</th>\n",
       "      <th>authors</th>\n",
       "    </tr>\n",
       "  </thead>\n",
       "  <tbody>\n",
       "    <tr>\n",
       "      <th>3144</th>\n",
       "      <td>1710.00324</td>\n",
       "      <td>mutual information based bayesian analysis of ...</td>\n",
       "      <td>stat.ap</td>\n",
       "      <td>this paper aims at assessing the power system ...</td>\n",
       "      <td>10.1109/ptc.2015.7232592</td>\n",
       "      <td>2017-10-01</td>\n",
       "      <td></td>\n",
       "      <td>[swasti r. khuntia, jose l. rueda, mart a. m. ...</td>\n",
       "    </tr>\n",
       "    <tr>\n",
       "      <th>3145</th>\n",
       "      <td>1710.00387</td>\n",
       "      <td>efficient preconditioning for noisy separable ...</td>\n",
       "      <td>cs.na stat.ml</td>\n",
       "      <td>the successive projection algorithm (spa) can ...</td>\n",
       "      <td></td>\n",
       "      <td>2017-10-01</td>\n",
       "      <td></td>\n",
       "      <td>[tomohiko mizutani, mirai tanaka]</td>\n",
       "    </tr>\n",
       "    <tr>\n",
       "      <th>3146</th>\n",
       "      <td>1710.00473</td>\n",
       "      <td>oracle importance sampling for stochastic simu...</td>\n",
       "      <td>stat.me stat.co</td>\n",
       "      <td>we consider the problem of estimating an expec...</td>\n",
       "      <td></td>\n",
       "      <td>2017-10-01</td>\n",
       "      <td></td>\n",
       "      <td>[yen-chi chen, youngjun choe]</td>\n",
       "    </tr>\n",
       "    <tr>\n",
       "      <th>3147</th>\n",
       "      <td>1710.00482</td>\n",
       "      <td>weighted-svd: matrix factorization with weight...</td>\n",
       "      <td>cs.ir cs.lg stat.ml</td>\n",
       "      <td>the matrix factorization models, sometimes cal...</td>\n",
       "      <td></td>\n",
       "      <td>2017-10-02</td>\n",
       "      <td></td>\n",
       "      <td>[hung-hsuan chen]</td>\n",
       "    </tr>\n",
       "    <tr>\n",
       "      <th>3148</th>\n",
       "      <td>1710.00486</td>\n",
       "      <td>deepsafe: a data-driven approach for checking ...</td>\n",
       "      <td>cs.ne cs.lg stat.ml</td>\n",
       "      <td>deep neural networks have become widely used, ...</td>\n",
       "      <td></td>\n",
       "      <td>2017-10-02</td>\n",
       "      <td></td>\n",
       "      <td>[divya gopinath, guy katz, corina s. pasareanu...</td>\n",
       "    </tr>\n",
       "    <tr>\n",
       "      <th>3149</th>\n",
       "      <td>1710.00499</td>\n",
       "      <td>online control of the false discovery rate wit...</td>\n",
       "      <td>stat.me cs.lg math.st stat.ml stat.th</td>\n",
       "      <td>in the online multiple testing problem, p-valu...</td>\n",
       "      <td></td>\n",
       "      <td>2017-10-02</td>\n",
       "      <td></td>\n",
       "      <td>[aaditya ramdas, fanny yang, martin j. wainwri...</td>\n",
       "    </tr>\n",
       "    <tr>\n",
       "      <th>3150</th>\n",
       "      <td>1710.00502</td>\n",
       "      <td>bivariate exponentiated generalized linear exp...</td>\n",
       "      <td>math.st stat.th</td>\n",
       "      <td>the aim of this paper, is to define a bivariat...</td>\n",
       "      <td></td>\n",
       "      <td>2017-10-02</td>\n",
       "      <td></td>\n",
       "      <td>[mohamed ibrahim, m. s. eliwa, m. el- morshedy]</td>\n",
       "    </tr>\n",
       "    <tr>\n",
       "      <th>3151</th>\n",
       "      <td>1710.00559</td>\n",
       "      <td>crude eeg parameter provides sleep medicine wi...</td>\n",
       "      <td>stat.ap q-bio.nc</td>\n",
       "      <td>to evaluate eeg data, one can count local maxi...</td>\n",
       "      <td></td>\n",
       "      <td>2017-10-02</td>\n",
       "      <td></td>\n",
       "      <td>[christoph bandt]</td>\n",
       "    </tr>\n",
       "    <tr>\n",
       "      <th>3152</th>\n",
       "      <td>1710.00569</td>\n",
       "      <td>learning predictive leading indicators for for...</td>\n",
       "      <td>stat.ml</td>\n",
       "      <td>we present a new method for forecasting system...</td>\n",
       "      <td></td>\n",
       "      <td>2017-10-02</td>\n",
       "      <td></td>\n",
       "      <td>[magda gregorova, alexandros kalousis, stephan...</td>\n",
       "    </tr>\n",
       "    <tr>\n",
       "      <th>3153</th>\n",
       "      <td>1710.00575</td>\n",
       "      <td>remote sensing image classification with large...</td>\n",
       "      <td>cs.lg stat.ap stat.ml</td>\n",
       "      <td>current remote sensing image classification pr...</td>\n",
       "      <td>10.1109/tgrs.2017.2758922</td>\n",
       "      <td>2017-10-02</td>\n",
       "      <td>2017-10-03</td>\n",
       "      <td>[pablo morales-alvarez, adrian perez-suay, raf...</td>\n",
       "    </tr>\n",
       "  </tbody>\n",
       "</table>\n",
       "</div>"
      ],
      "text/plain": [
       "              id                                              title  \\\n",
       "3144  1710.00324  mutual information based bayesian analysis of ...   \n",
       "3145  1710.00387  efficient preconditioning for noisy separable ...   \n",
       "3146  1710.00473  oracle importance sampling for stochastic simu...   \n",
       "3147  1710.00482  weighted-svd: matrix factorization with weight...   \n",
       "3148  1710.00486  deepsafe: a data-driven approach for checking ...   \n",
       "3149  1710.00499  online control of the false discovery rate wit...   \n",
       "3150  1710.00502  bivariate exponentiated generalized linear exp...   \n",
       "3151  1710.00559  crude eeg parameter provides sleep medicine wi...   \n",
       "3152  1710.00569  learning predictive leading indicators for for...   \n",
       "3153  1710.00575  remote sensing image classification with large...   \n",
       "\n",
       "                                 categories  \\\n",
       "3144                                stat.ap   \n",
       "3145                          cs.na stat.ml   \n",
       "3146                        stat.me stat.co   \n",
       "3147                    cs.ir cs.lg stat.ml   \n",
       "3148                    cs.ne cs.lg stat.ml   \n",
       "3149  stat.me cs.lg math.st stat.ml stat.th   \n",
       "3150                        math.st stat.th   \n",
       "3151                       stat.ap q-bio.nc   \n",
       "3152                                stat.ml   \n",
       "3153                  cs.lg stat.ap stat.ml   \n",
       "\n",
       "                                               abstract  \\\n",
       "3144  this paper aims at assessing the power system ...   \n",
       "3145  the successive projection algorithm (spa) can ...   \n",
       "3146  we consider the problem of estimating an expec...   \n",
       "3147  the matrix factorization models, sometimes cal...   \n",
       "3148  deep neural networks have become widely used, ...   \n",
       "3149  in the online multiple testing problem, p-valu...   \n",
       "3150  the aim of this paper, is to define a bivariat...   \n",
       "3151  to evaluate eeg data, one can count local maxi...   \n",
       "3152  we present a new method for forecasting system...   \n",
       "3153  current remote sensing image classification pr...   \n",
       "\n",
       "                            doi     created     updated  \\\n",
       "3144   10.1109/ptc.2015.7232592  2017-10-01               \n",
       "3145                             2017-10-01               \n",
       "3146                             2017-10-01               \n",
       "3147                             2017-10-02               \n",
       "3148                             2017-10-02               \n",
       "3149                             2017-10-02               \n",
       "3150                             2017-10-02               \n",
       "3151                             2017-10-02               \n",
       "3152                             2017-10-02               \n",
       "3153  10.1109/tgrs.2017.2758922  2017-10-02  2017-10-03   \n",
       "\n",
       "                                                authors  \n",
       "3144  [swasti r. khuntia, jose l. rueda, mart a. m. ...  \n",
       "3145                  [tomohiko mizutani, mirai tanaka]  \n",
       "3146                      [yen-chi chen, youngjun choe]  \n",
       "3147                                  [hung-hsuan chen]  \n",
       "3148  [divya gopinath, guy katz, corina s. pasareanu...  \n",
       "3149  [aaditya ramdas, fanny yang, martin j. wainwri...  \n",
       "3150    [mohamed ibrahim, m. s. eliwa, m. el- morshedy]  \n",
       "3151                                  [christoph bandt]  \n",
       "3152  [magda gregorova, alexandros kalousis, stephan...  \n",
       "3153  [pablo morales-alvarez, adrian perez-suay, raf...  "
      ]
     },
     "execution_count": 9,
     "metadata": {},
     "output_type": "execute_result"
    }
   ],
   "source": [
    "df_filtered.head(10)"
   ]
  },
  {
   "cell_type": "code",
   "execution_count": 10,
   "metadata": {},
   "outputs": [],
   "source": [
    "df.authors = df.authors.astype(str)"
   ]
  },
  {
   "cell_type": "code",
   "execution_count": 11,
   "metadata": {},
   "outputs": [],
   "source": [
    "df.to_feather('arxiv.feather')"
   ]
  },
  {
   "cell_type": "code",
   "execution_count": 12,
   "metadata": {},
   "outputs": [],
   "source": [
    "import pickle"
   ]
  },
  {
   "cell_type": "code",
   "execution_count": 15,
   "metadata": {},
   "outputs": [],
   "source": [
    "pickle.dump(output, open('output.pickle', 'wb'))"
   ]
  },
  {
   "cell_type": "code",
   "execution_count": 16,
   "metadata": {},
   "outputs": [],
   "source": [
    "import feather"
   ]
  },
  {
   "cell_type": "code",
   "execution_count": 17,
   "metadata": {},
   "outputs": [],
   "source": [
    "df = feather.read_dataframe('arxiv.feather')"
   ]
  },
  {
   "cell_type": "code",
   "execution_count": 20,
   "metadata": {},
   "outputs": [],
   "source": [
    "output = pickle.load(open('output.pickle', 'rb'))"
   ]
  },
  {
   "cell_type": "code",
   "execution_count": 25,
   "metadata": {},
   "outputs": [],
   "source": [
    "output2 = []\n",
    "for o in output:\n",
    "    o2 = o.copy()\n",
    "    o2['authors'] = ' '.join(map(lambda x: x.strip(' ').replace(' ', '_'), o['authors']))\n",
    "    output2.append(o2)"
   ]
  },
  {
   "cell_type": "code",
   "execution_count": 28,
   "metadata": {},
   "outputs": [],
   "source": [
    "df2 = pd.DataFrame(output2)\n",
    "df2 = df2[(df2.created >= '2017-10-01') & (df2.created<='2018-09-30')]"
   ]
  },
  {
   "cell_type": "code",
   "execution_count": 31,
   "metadata": {},
   "outputs": [],
   "source": [
    "df2.reset_index(drop=True).to_feather('arxiv.feather')"
   ]
  },
  {
   "cell_type": "code",
   "execution_count": null,
   "metadata": {},
   "outputs": [],
   "source": []
  }
 ],
 "metadata": {
  "kernelspec": {
   "display_name": "Python [default]",
   "language": "python",
   "name": "python3"
  },
  "language_info": {
   "codemirror_mode": {
    "name": "ipython",
    "version": 3
   },
   "file_extension": ".py",
   "mimetype": "text/x-python",
   "name": "python",
   "nbconvert_exporter": "python",
   "pygments_lexer": "ipython3",
   "version": "3.7.1"
  }
 },
 "nbformat": 4,
 "nbformat_minor": 2
}
